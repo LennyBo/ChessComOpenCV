{
 "cells": [
  {
   "cell_type": "code",
   "execution_count": 5,
   "metadata": {},
   "outputs": [],
   "source": [
    "from board_labeler import getFiles\n",
    "\n",
    "filesDir = \"labeled/\"\n",
    "\n",
    "paths = getFiles(\"labeled/\")"
   ]
  },
  {
   "cell_type": "code",
   "execution_count": 43,
   "metadata": {},
   "outputs": [
    {
     "name": "stdout",
     "output_type": "stream",
     "text": [
      "3444 3444\n"
     ]
    }
   ],
   "source": [
    "import cv2\n",
    "import re\n",
    "from sklearn.preprocessing import StandardScaler\n",
    "\n",
    "scaler = StandardScaler()\n",
    "\n",
    "stringLen = len(filesDir)\n",
    "m = re.compile(r\"([a-zA-Z]+(_[a-zA-Z]+)?)_\")\n",
    "\n",
    "\n",
    "\n",
    "X = [cv2.imread(x) for x in paths]\n",
    "y = [m.findall(x)[0][0] for x in paths]\n",
    "\n",
    "dictClasses = {\n",
    "    \"empty\":0,\n",
    "    \"bishop_black\":1,\n",
    "    \"bishop_white\":2,\n",
    "    \"king_black\":4,\n",
    "    \"king_white\":5,\n",
    "    \"knight_black\":6,\n",
    "    \"knight_white\":7,\n",
    "    \"pawn_black\":8,\n",
    "    \"pawn_white\":9,\n",
    "    \"queen_black\":10,\n",
    "    \"queen_white\":11,\n",
    "    \"rook_black\":12,\n",
    "    \"rook_white\":13,\n",
    "}\n",
    "y = [dictClasses[x] for x in y]\n",
    "\n",
    "temp1 = [x.shape for x in X]\n",
    "temp = set(temp1)\n",
    "\n",
    "temp3 = [temp1.count(x) for x in temp]\n",
    "print(temp)\n",
    "print(temp3)\n",
    "\n",
    "print(f\"{len(X)} {len(y)}\")\n",
    "\n"
   ]
  },
  {
   "cell_type": "code",
   "execution_count": 35,
   "metadata": {},
   "outputs": [
    {
     "name": "stdout",
     "output_type": "stream",
     "text": [
      "[8, 0, 0, 1, 6, 9, 0, 0, 0, 0, 9, 9, 0, 0, 0, 8, 0, 4, 0, 0, 0, 0, 8, 0, 0, 0, 0, 0, 9, 0, 8, 0, 0, 0, 8, 10, 8, 5, 0, 0, 0, 0, 0, 0, 0, 9, 0, 0, 0, 0]\n"
     ]
    }
   ],
   "source": [
    "from sklearn.model_selection import train_test_split\n",
    "\n",
    "X_train, X_test, y_train, y_test = train_test_split(X, y, test_size=0.33, random_state=42)\n"
   ]
  },
  {
   "cell_type": "code",
   "execution_count": null,
   "metadata": {},
   "outputs": [],
   "source": [
    "\n",
    "\n"
   ]
  }
 ],
 "metadata": {
  "interpreter": {
   "hash": "6a65bfb053b84dfe41b67f1cec0c790434c65b552b531ac67bdc76b65fabe208"
  },
  "kernelspec": {
   "display_name": "Python 3.8.6 64-bit",
   "language": "python",
   "name": "python3"
  },
  "language_info": {
   "codemirror_mode": {
    "name": "ipython",
    "version": 3
   },
   "file_extension": ".py",
   "mimetype": "text/x-python",
   "name": "python",
   "nbconvert_exporter": "python",
   "pygments_lexer": "ipython3",
   "version": "3.8.6"
  },
  "orig_nbformat": 4
 },
 "nbformat": 4,
 "nbformat_minor": 2
}
