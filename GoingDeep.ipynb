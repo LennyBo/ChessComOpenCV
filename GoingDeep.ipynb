{
 "cells": [
  {
   "cell_type": "code",
   "execution_count": null,
   "metadata": {},
   "outputs": [],
   "source": [
    "from board_labeler import getFiles\n",
    "\n",
    "filesDir = \"labeledConstSize/\"\n",
    "\n",
    "paths = getFiles(filesDir)"
   ]
  },
  {
   "cell_type": "code",
   "execution_count": null,
   "metadata": {},
   "outputs": [],
   "source": [
    "import cv2\n",
    "import re\n",
    "from sklearn.preprocessing import StandardScaler\n",
    "\n",
    "scaler = StandardScaler()\n",
    "\n",
    "stringLen = len(filesDir)\n",
    "m = re.compile(r\"([a-zA-Z]+(_[a-zA-Z]+)?)_\")\n",
    "\n",
    "\n",
    "\n",
    "X = [cv2.imread(x) for x in paths]\n",
    "y = [m.findall(x)[0][0] for x in paths]\n",
    "\n",
    "dictClasses = {\n",
    "    \"empty\":0,\n",
    "    \"bishop_black\":1,\n",
    "    \"bishop_white\":2,\n",
    "    \"king_black\":4,\n",
    "    \"king_white\":5,\n",
    "    \"knight_black\":6,\n",
    "    \"knight_white\":7,\n",
    "    \"pawn_black\":8,\n",
    "    \"pawn_white\":9,\n",
    "    \"queen_black\":10,\n",
    "    \"queen_white\":11,\n",
    "    \"rook_black\":12,\n",
    "    \"rook_white\":13,\n",
    "}\n",
    "y = [[dictClasses[x]] for x in y]\n",
    "\n",
    "# temp1 = [x.shape for x in X]\n",
    "# temp = set(temp1)\n",
    "\n",
    "# temp3 = [temp1.count(x) for x in temp]\n",
    "# print(temp)\n",
    "# print(temp3)\n",
    "\n",
    "print(f\"{len(X)} {len(y)}\")\n",
    "\n"
   ]
  },
  {
   "cell_type": "code",
   "execution_count": null,
   "metadata": {},
   "outputs": [],
   "source": [
    "from sklearn.model_selection import train_test_split\n",
    "import numpy as np\n",
    "\n",
    "X = np.asanyarray(X)\n",
    "y = np.asanyarray(y)\n",
    "\n",
    "X_train, X_test, y_train, y_test = train_test_split(X, y, test_size=0.33, random_state=42)\n"
   ]
  },
  {
   "cell_type": "code",
   "execution_count": null,
   "metadata": {},
   "outputs": [],
   "source": [
    "from tensorflow.keras.preprocessing.image import ImageDataGenerator\n",
    "\n",
    "datagen = ImageDataGenerator(rotation_range=90, width_shift_range=0.2, height_shift_range=0.2, brightness_range=(0.2, 0.8), horizontal_flip=True, vertical_flip=True)\n",
    "generator = datagen.flow_from_directory(\"labeledConstSize/\", target_size=(150, 150), batch_size=32, class_mode=\"categorical\")"
   ]
  },
  {
   "cell_type": "code",
   "execution_count": null,
   "metadata": {},
   "outputs": [],
   "source": [
    "import tensorflow as tf\n",
    "from tensorflow import keras\n",
    "from tensorflow.keras import layers\n",
    "\n",
    "\n",
    "data_augmentation = keras.Sequential(\n",
    "    [\n",
    "        layers.RandomFlip(\"horizontal\"),\n",
    "        layers.RandomRotation(0.1),\n",
    "    ]\n",
    ")\n",
    "\n",
    "def make_model(input_shape, num_classes):\n",
    "    inputs = keras.Input(shape=input_shape)\n",
    "    # Image augmentation block\n",
    "    x = data_augmentation(inputs)\n",
    "\n",
    "    # Entry block\n",
    "    x = layers.Rescaling(1.0 / 255)(x)\n",
    "    x = layers.Conv2D(32, 3, strides=2, padding=\"same\")(x)\n",
    "    x = layers.BatchNormalization()(x)\n",
    "    x = layers.Activation(\"relu\")(x)\n",
    "\n",
    "    x = layers.Conv2D(64, 3, padding=\"same\")(x)\n",
    "    x = layers.BatchNormalization()(x)\n",
    "    x = layers.Activation(\"relu\")(x)\n",
    "\n",
    "    previous_block_activation = x  # Set aside residual\n",
    "\n",
    "    for size in [128, 256, 512, 728]:\n",
    "        x = layers.Activation(\"relu\")(x)\n",
    "        x = layers.SeparableConv2D(size, 3, padding=\"same\")(x)\n",
    "        x = layers.BatchNormalization()(x)\n",
    "\n",
    "        x = layers.Activation(\"relu\")(x)\n",
    "        x = layers.SeparableConv2D(size, 3, padding=\"same\")(x)\n",
    "        x = layers.BatchNormalization()(x)\n",
    "\n",
    "        x = layers.MaxPooling2D(3, strides=2, padding=\"same\")(x)\n",
    "\n",
    "        # Project residual\n",
    "        residual = layers.Conv2D(size, 1, strides=2, padding=\"same\")(\n",
    "            previous_block_activation\n",
    "        )\n",
    "        x = layers.add([x, residual])  # Add back residual\n",
    "        previous_block_activation = x  # Set aside next residual\n",
    "\n",
    "    x = layers.SeparableConv2D(1024, 3, padding=\"same\")(x)\n",
    "    x = layers.BatchNormalization()(x)\n",
    "    x = layers.Activation(\"relu\")(x)\n",
    "\n",
    "    x = layers.GlobalAveragePooling2D()(x)\n",
    "    if num_classes == 2:\n",
    "        activation = \"sigmoid\"\n",
    "        units = 1\n",
    "    else:\n",
    "        activation = \"softmax\"\n",
    "        units = num_classes\n",
    "\n",
    "    x = layers.Dropout(0.5)(x)\n",
    "    outputs = layers.Dense(units, activation=activation)(x)\n",
    "    return keras.Model(inputs, outputs)\n",
    "\n",
    "\n",
    "model = tf.keras.models.Sequential([tf.keras.layers.Flatten(),\n",
    "                                    tf.keras.layers.Dense(500, activation = tf.nn.relu),\n",
    "                                    tf.keras.layers.Dense(250, activation = tf.nn.relu),\n",
    "                                    tf.keras.layers.Dense(100, activation = tf.nn.relu),\n",
    "                                    tf.keras.layers.Dense(14, activation = tf.nn.softmax)])\n",
    "\n",
    "model.compile(\n",
    "    optimizer=keras.optimizers.Adam(1e-3),\n",
    "    loss=\"sparse_categorical_crossentropy\",\n",
    "    metrics=[\"accuracy\"],\n",
    ")\n",
    "model.fit(X_train,y_train,epochs=20)\n"
   ]
  },
  {
   "cell_type": "code",
   "execution_count": null,
   "metadata": {},
   "outputs": [],
   "source": [
    "score = model.evaluate(X_test, y_test, verbose = 0) \n",
    "\n",
    "print('Test loss:', score[0]) \n",
    "print('Test accuracy:', score[1])"
   ]
  },
  {
   "cell_type": "code",
   "execution_count": null,
   "metadata": {},
   "outputs": [],
   "source": [
    "model.save(\"models/firstmodel\")"
   ]
  },
  {
   "cell_type": "code",
   "execution_count": null,
   "metadata": {},
   "outputs": [],
   "source": []
  },
  {
   "cell_type": "code",
   "execution_count": null,
   "metadata": {},
   "outputs": [],
   "source": [
    "from board_finder import getBoardCoords,imageResize\n",
    "\n",
    "img = imageResize(cv2.imread(\"Board_Examples/medium2.png\"), 0.5)\n",
    "\n",
    "imgs = getBoardCoords(img)\n",
    "\n",
    "# #print(imgs[0])\n",
    "# temp1 = [x.shape for x in imgs]\n",
    "# temp = set(temp1)\n",
    "\n",
    "# temp3 = [temp1.count(x) for x in temp]\n",
    "# print(temp)\n",
    "# print(temp3)\n",
    "\n",
    "imgs = [x for x in imgs if x.shape == (47,47,3)]\n",
    "\n",
    "\n",
    "predictionClass = model.predict(np.array(imgs)) # ALWAYS USE NP.ARRAY AND GIVE IT AN ARRAY TO PREDICT\n",
    "\n",
    "dct = {v: k for k, v in dictClasses.items()} # Inverse dictionary with 0=>empty, 1=>black_bishop, 2=>white_bishop, etc.\n",
    "\n",
    "classPredicted = dct[predictionClass[0].argmax()] # Get the class with the highest probability\n",
    "\n",
    "print(classPredicted) # Print the class with the highest probability\n",
    "\n",
    "\n"
   ]
  },
  {
   "cell_type": "code",
   "execution_count": null,
   "metadata": {},
   "outputs": [],
   "source": [
    "%matplotlib inline"
   ]
  },
  {
   "cell_type": "code",
   "execution_count": null,
   "metadata": {},
   "outputs": [],
   "source": [
    "import matplotlib.pyplot as plt\n",
    "\n",
    "cv2.imshow(\"Yeet\",imgs[0])\n",
    "cv2.waitKey(0)\n",
    "cv2.destroyAllWindows()\n",
    "for i,im in enumerate(imgs):\n",
    "    imgplot = plt.imshow(im)\n",
    "    plt.show()\n",
    "    classPredicted = dct[predictionClass[i].argmax()] # Get the class with the highest probability\n",
    "    print(classPredicted)"
   ]
  },
  {
   "cell_type": "code",
   "execution_count": null,
   "metadata": {},
   "outputs": [],
   "source": []
  }
 ],
 "metadata": {
  "interpreter": {
   "hash": "6a65bfb053b84dfe41b67f1cec0c790434c65b552b531ac67bdc76b65fabe208"
  },
  "kernelspec": {
   "display_name": "Python 3.8.6 64-bit",
   "language": "python",
   "name": "python3"
  },
  "language_info": {
   "codemirror_mode": {
    "name": "ipython",
    "version": 3
   },
   "file_extension": ".py",
   "mimetype": "text/x-python",
   "name": "python",
   "nbconvert_exporter": "python",
   "pygments_lexer": "ipython3",
   "version": "3.9.12"
  },
  "orig_nbformat": 4
 },
 "nbformat": 4,
 "nbformat_minor": 2
}
