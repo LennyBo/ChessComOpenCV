{
 "cells": [
  {
   "cell_type": "code",
   "execution_count": 16,
   "metadata": {},
   "outputs": [],
   "source": [
    "from board_labeler import get_files_in_dir\n",
    "\n",
    "filesDir = \"labeledConstSize/\"\n",
    "\n",
    "paths = get_files_in_dir(filesDir)"
   ]
  },
  {
   "cell_type": "code",
   "execution_count": 17,
   "metadata": {},
   "outputs": [
    {
     "name": "stdout",
     "output_type": "stream",
     "text": [
      "1804 1804\n"
     ]
    }
   ],
   "source": [
    "import cv2\n",
    "import re\n",
    "import os\n",
    "from sklearn.preprocessing import StandardScaler\n",
    "\n",
    "scaler = StandardScaler()\n",
    "\n",
    "stringLen = len(filesDir)\n",
    "m = re.compile(r\"(\\/)([a-zA-Z_]+)(\\/)\")\n",
    "\n",
    "X = [cv2.imread(x) for x in paths]\n",
    "y = [m.findall(x)[0][1] for x in paths]\n",
    "\n",
    "dictClasses = {\n",
    "    \"empty\":0,\n",
    "    \"bishop_black\":1,\n",
    "    \"bishop_white\":2,\n",
    "    \"king_black\":3,\n",
    "    \"king_white\":4,\n",
    "    \"knight_black\":5,\n",
    "    \"knight_white\":6,\n",
    "    \"pawn_black\":7,\n",
    "    \"pawn_white\":8,\n",
    "    \"queen_black\":9,\n",
    "    \"queen_white\":10,\n",
    "    \"rook_black\":11,\n",
    "    \"rook_white\":12,\n",
    "}\n",
    "y = [[dictClasses[x]] for x in y]\n",
    "\n",
    "# temp1 = [x.shape for x in X]\n",
    "# temp = set(temp1)\n",
    "\n",
    "# temp3 = [temp1.count(x) for x in temp]\n",
    "# print(temp)\n",
    "# print(temp3)\n",
    "\n",
    "print(f\"{len(X)} {len(y)}\")"
   ]
  },
  {
   "cell_type": "code",
   "execution_count": 18,
   "metadata": {},
   "outputs": [],
   "source": [
    "from sklearn.model_selection import train_test_split\n",
    "import numpy as np\n",
    "\n",
    "X = np.asanyarray(X)\n",
    "y = np.asanyarray(y)\n",
    "\n",
    "X_train, X_test, y_train, y_test = train_test_split(X, y, test_size=0.33, random_state=42)"
   ]
  },
  {
   "cell_type": "code",
   "execution_count": 19,
   "metadata": {},
   "outputs": [],
   "source": [
    "import shutil\n",
    "\n",
    "train_path = 'train_data/'\n",
    "test_path = 'test_data/'\n",
    "\n",
    "if os.path.exists(train_path) and os.path.isdir(train_path):\n",
    "    shutil.rmtree(train_path)\n",
    "os.mkdir(train_path)\n",
    "\n",
    "if os.path.exists(test_path) and os.path.isdir(test_path):\n",
    "    shutil.rmtree(test_path)\n",
    "os.mkdir(test_path)\n",
    "\n",
    "for key, value in dictClasses.items():\n",
    "    os.mkdir(f\"{train_path}[{value}]\")\n",
    "    os.mkdir(f\"{test_path}[{value}]\")\n",
    "\n",
    "for i in range(len(X_train)):\n",
    "    cv2.imwrite(f\"{train_path}{y_train[i]}/{i}.png\", X_train[i])\n",
    "    \n",
    "for i in range(len(X_test)):\n",
    "    cv2.imwrite(f\"{test_path}{y_test[i]}/{i}.png\", X_test[i])"
   ]
  },
  {
   "cell_type": "code",
   "execution_count": 20,
   "metadata": {},
   "outputs": [
    {
     "name": "stdout",
     "output_type": "stream",
     "text": [
      "Found 1208 images belonging to 13 classes.\n"
     ]
    }
   ],
   "source": [
    "from tensorflow.keras.preprocessing.image import ImageDataGenerator\n",
    "from board_finder import squareImgSize\n",
    "\n",
    "datagen = ImageDataGenerator(rotation_range=90, width_shift_range=0.2, height_shift_range=0.2, brightness_range=(0.2, 0.8), horizontal_flip=True, vertical_flip=True)\n",
    "generator = datagen.flow_from_directory(train_path, target_size=(squareImgSize, squareImgSize), batch_size=32, class_mode=\"sparse\", seed=42)"
   ]
  },
  {
   "cell_type": "code",
   "execution_count": 21,
   "metadata": {},
   "outputs": [
    {
     "name": "stdout",
     "output_type": "stream",
     "text": [
      "13\n",
      "Epoch 1/5\n",
      "10/10 [==============================] - 12s 447ms/step - loss: 1.2761 - accuracy: 0.7219\n",
      "Epoch 2/5\n",
      "10/10 [==============================] - 4s 400ms/step - loss: 0.1242 - accuracy: 0.9644\n",
      "Epoch 3/5\n",
      "10/10 [==============================] - 4s 378ms/step - loss: 0.0305 - accuracy: 0.9942\n",
      "Epoch 4/5\n",
      "10/10 [==============================] - 4s 395ms/step - loss: 0.0104 - accuracy: 0.9983\n",
      "Epoch 5/5\n",
      "10/10 [==============================] - 4s 389ms/step - loss: 0.0054 - accuracy: 0.9983\n"
     ]
    },
    {
     "data": {
      "text/plain": [
       "<keras.callbacks.History at 0x1bdab069490>"
      ]
     },
     "execution_count": 21,
     "metadata": {},
     "output_type": "execute_result"
    }
   ],
   "source": [
    "import tensorflow as tf\n",
    "from tensorflow import keras\n",
    "from tensorflow.keras import layers\n",
    "\n",
    "\n",
    "data_augmentation = keras.Sequential(\n",
    "    [\n",
    "        layers.RandomFlip(\"horizontal\"),\n",
    "        layers.RandomRotation(0.1),\n",
    "    ]\n",
    ")\n",
    "\n",
    "imgShape = X_train[0].shape\n",
    "num_classes = len(dictClasses)\n",
    "print(num_classes)\n",
    "\n",
    "inner_model = tf.keras.applications.resnet50.ResNet50(\n",
    "    include_top=False,\n",
    "    weights='imagenet',\n",
    "    input_shape=X_train[0].shape,\n",
    "    classes=num_classes,\n",
    ")\n",
    "inner_model.trainable = False\n",
    "model = keras.Sequential([\n",
    "    keras.Input(shape=X_train[0].shape),\n",
    "    inner_model,\n",
    "    layers.Flatten(),\n",
    "    tf.keras.layers.Dense(1024, activation='relu'),\n",
    "    tf.keras.layers.Dense(512, activation='relu'),\n",
    "    #Dense(50, activation='relu'),\n",
    "    tf.keras.layers.Dropout(0.2),\n",
    "    tf.keras.layers.Dense(num_classes, activation='softmax'),\n",
    "])\n",
    "\n",
    "model.compile(\n",
    "    optimizer='adam',   \n",
    "    loss='categorical_crossentropy',\n",
    "    metrics=['accuracy'],\n",
    ")\n",
    "\n",
    "model.fit(\n",
    "    # train_generator,\n",
    "    X_train,\n",
    "    keras.utils.to_categorical(y_train),\n",
    "    epochs=5,\n",
    "    batch_size=128\n",
    ")"
   ]
  },
  {
   "cell_type": "code",
   "execution_count": 22,
   "metadata": {},
   "outputs": [
    {
     "name": "stdout",
     "output_type": "stream",
     "text": [
      "Test loss: 0.005301191005855799\n",
      "Test accuracy: 0.9966443181037903\n"
     ]
    }
   ],
   "source": [
    "score = model.evaluate(X_test, keras.utils.to_categorical(y_test), verbose = 0) \n",
    "\n",
    "print('Test loss:', score[0]) \n",
    "print('Test accuracy:', score[1])"
   ]
  },
  {
   "cell_type": "code",
   "execution_count": 23,
   "metadata": {},
   "outputs": [
    {
     "name": "stdout",
     "output_type": "stream",
     "text": [
      "INFO:tensorflow:Assets written to: models/secondmodel\\assets\n"
     ]
    },
    {
     "name": "stderr",
     "output_type": "stream",
     "text": [
      "C:\\Users\\leon.muller\\AppData\\Local\\Packages\\PythonSoftwareFoundation.Python.3.9_qbz5n2kfra8p0\\LocalCache\\local-packages\\Python39\\site-packages\\keras\\utils\\generic_utils.py:494: CustomMaskWarning: Custom mask layers require a config and must override get_config. When loading, the custom mask layer must be passed to the custom_objects argument.\n",
      "  warnings.warn('Custom mask layers require a config and must override '\n"
     ]
    }
   ],
   "source": [
    "model.save(\"models/secondmodel\")"
   ]
  }
 ],
 "metadata": {
  "interpreter": {
   "hash": "6a65bfb053b84dfe41b67f1cec0c790434c65b552b531ac67bdc76b65fabe208"
  },
  "kernelspec": {
   "display_name": "Python 3.8.6 64-bit",
   "language": "python",
   "name": "python3"
  },
  "language_info": {
   "codemirror_mode": {
    "name": "ipython",
    "version": 3
   },
   "file_extension": ".py",
   "mimetype": "text/x-python",
   "name": "python",
   "nbconvert_exporter": "python",
   "pygments_lexer": "ipython3",
   "version": "3.9.12"
  },
  "orig_nbformat": 4
 },
 "nbformat": 4,
 "nbformat_minor": 2
}
