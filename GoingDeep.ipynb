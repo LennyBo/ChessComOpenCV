{
 "cells": [
  {
   "cell_type": "code",
   "execution_count": 1,
   "metadata": {},
   "outputs": [],
   "source": [
    "from board_labeler import get_files_in_dir\n",
    "\n",
    "filesDir = \"labeledConstSize/\"\n",
    "\n",
    "paths = get_files_in_dir(filesDir)"
   ]
  },
  {
   "cell_type": "code",
   "execution_count": 2,
   "metadata": {},
   "outputs": [
    {
     "name": "stdout",
     "output_type": "stream",
     "text": [
      "8000 8000\n"
     ]
    }
   ],
   "source": [
    "import cv2\n",
    "import re\n",
    "import os\n",
    "from sklearn.preprocessing import StandardScaler\n",
    "from board_labeler import dictClasses\n",
    "from board_labeler import dctInv\n",
    "\n",
    "scaler = StandardScaler()\n",
    "\n",
    "stringLen = len(filesDir)\n",
    "m = re.compile(r\"(\\/)([a-zA-Z_]+)(\\/)\")\n",
    "\n",
    "X = [cv2.imread(x) for x in paths]\n",
    "y = [m.findall(x)[0][1] for x in paths]\n",
    "\n",
    "y = [[dictClasses[x]] for x in y]\n",
    "\n",
    "print(f\"{len(X)} {len(y)}\")"
   ]
  },
  {
   "cell_type": "code",
   "execution_count": 3,
   "metadata": {},
   "outputs": [],
   "source": [
    "from sklearn.model_selection import train_test_split\n",
    "import numpy as np\n",
    "\n",
    "X = np.asanyarray(X)\n",
    "y = np.asanyarray(y)\n",
    "\n",
    "X_train, X_test, y_train, y_test = train_test_split(X, y, test_size=0.33, random_state=42)"
   ]
  },
  {
   "cell_type": "code",
   "execution_count": 4,
   "metadata": {},
   "outputs": [],
   "source": [
    "import shutil\n",
    "\n",
    "train_path = 'train_data/'\n",
    "test_path = 'test_data/'\n",
    "\n",
    "if os.path.exists(train_path) and os.path.isdir(train_path):\n",
    "    shutil.rmtree(train_path)\n",
    "os.mkdir(train_path)\n",
    "\n",
    "if os.path.exists(test_path) and os.path.isdir(test_path):\n",
    "    shutil.rmtree(test_path)\n",
    "os.mkdir(test_path)\n",
    "\n",
    "for key, value in dictClasses.items():\n",
    "    os.mkdir(f\"{train_path}[{value}]\")\n",
    "    os.mkdir(f\"{test_path}[{value}]\")\n",
    "\n",
    "for i in range(len(X_train)):\n",
    "    cv2.imwrite(f\"{train_path}{y_train[i]}/{i}.png\", X_train[i])\n",
    "    \n",
    "for i in range(len(X_test)):\n",
    "    cv2.imwrite(f\"{test_path}{y_test[i]}/{i}.png\", X_test[i])"
   ]
  },
  {
   "cell_type": "code",
   "execution_count": 9,
   "metadata": {},
   "outputs": [
    {
     "name": "stdout",
     "output_type": "stream",
     "text": [
      "13\n",
      "Epoch 1/20\n",
      "42/42 [==============================] - 20s 378ms/step - loss: 1.2985 - accuracy: 0.7254\n",
      "Epoch 2/20\n",
      "42/42 [==============================] - 15s 363ms/step - loss: 0.5417 - accuracy: 0.8291\n",
      "Epoch 3/20\n",
      "42/42 [==============================] - 15s 361ms/step - loss: 0.4531 - accuracy: 0.8616\n",
      "Epoch 4/20\n",
      "42/42 [==============================] - 14s 330ms/step - loss: 0.4135 - accuracy: 0.8634\n",
      "Epoch 5/20\n",
      "42/42 [==============================] - 14s 327ms/step - loss: 0.3921 - accuracy: 0.8761\n",
      "Epoch 6/20\n",
      "42/42 [==============================] - 14s 345ms/step - loss: 0.3414 - accuracy: 0.8869\n",
      "Epoch 7/20\n",
      "42/42 [==============================] - 14s 331ms/step - loss: 0.3371 - accuracy: 0.8966\n",
      "Epoch 8/20\n",
      "42/42 [==============================] - 15s 354ms/step - loss: 0.3288 - accuracy: 0.9004\n",
      "Epoch 9/20\n",
      "42/42 [==============================] - 17s 405ms/step - loss: 0.2904 - accuracy: 0.9017\n",
      "Epoch 10/20\n",
      "42/42 [==============================] - 16s 379ms/step - loss: 0.2877 - accuracy: 0.9017\n",
      "Epoch 11/20\n",
      "42/42 [==============================] - 16s 377ms/step - loss: 0.3020 - accuracy: 0.9022\n",
      "Epoch 12/20\n",
      "42/42 [==============================] - 15s 369ms/step - loss: 0.2993 - accuracy: 0.9067\n",
      "Epoch 13/20\n",
      "42/42 [==============================] - 16s 379ms/step - loss: 0.2622 - accuracy: 0.9091\n",
      "Epoch 14/20\n",
      "32/42 [=====================>........] - ETA: 3s - loss: 0.2706 - accuracy: 0.9114"
     ]
    }
   ],
   "source": [
    "import tensorflow as tf\n",
    "from tensorflow import keras\n",
    "from tensorflow.keras import layers\n",
    "\n",
    "imgShape = X_train[0].shape\n",
    "num_classes = len(dictClasses)\n",
    "print(num_classes)\n",
    "\n",
    "inner_model = tf.keras.applications.resnet50.ResNet50(\n",
    "    include_top=False,\n",
    "    weights='imagenet',\n",
    "    input_shape=X_train[0].shape,\n",
    "    classes=num_classes,\n",
    ")\n",
    "inner_model.trainable = False\n",
    "model = keras.Sequential([\n",
    "    keras.Input(shape=X_train[0].shape),\n",
    "    layers.RandomContrast(0.5),\n",
    "    layers.RandomTranslation(0.3, 0.3),\n",
    "    layers.RandomZoom(0.3, 0.3, fill_mode=\"constant\", interpolation=\"bilinear\"),\n",
    "    layers.RandomRotation(0.5, fill_mode=\"constant\", interpolation=\"bilinear\"),\n",
    "    inner_model,\n",
    "    layers.Flatten(),\n",
    "    layers.Dense(200, activation='relu'),\n",
    "    layers.Dense(100, activation='relu'),\n",
    "    #Dense(50, activation='relu'),\n",
    "    layers.Dropout(0.2),\n",
    "    layers.Dense(num_classes, activation='softmax'),\n",
    "])\n",
    "\n",
    "model.compile(\n",
    "    optimizer='adam',   \n",
    "    loss='categorical_crossentropy',\n",
    "    metrics=['accuracy'],\n",
    ")\n",
    "\n",
    "model.fit(\n",
    "    X_train,\n",
    "    keras.utils.to_categorical(y_train),\n",
    "    epochs=20,\n",
    "    batch_size=128,\n",
    ")"
   ]
  },
  {
   "cell_type": "code",
   "execution_count": null,
   "metadata": {},
   "outputs": [
    {
     "name": "stdout",
     "output_type": "stream",
     "text": [
      "Test loss: 0.37414637207984924\n",
      "Test accuracy: 0.8696969747543335\n"
     ]
    }
   ],
   "source": [
    "score = model.evaluate(X_test, keras.utils.to_categorical(y_test), verbose = 0) \n",
    "\n",
    "print('Test loss:', score[0]) \n",
    "print('Test accuracy:', score[1])"
   ]
  },
  {
   "cell_type": "code",
   "execution_count": null,
   "metadata": {},
   "outputs": [
    {
     "name": "stdout",
     "output_type": "stream",
     "text": [
      "INFO:tensorflow:Assets written to: models/secondmodel\\assets\n"
     ]
    },
    {
     "name": "stderr",
     "output_type": "stream",
     "text": [
      "C:\\Users\\leon.muller\\AppData\\Local\\Packages\\PythonSoftwareFoundation.Python.3.9_qbz5n2kfra8p0\\LocalCache\\local-packages\\Python39\\site-packages\\keras\\utils\\generic_utils.py:494: CustomMaskWarning: Custom mask layers require a config and must override get_config. When loading, the custom mask layer must be passed to the custom_objects argument.\n",
      "  warnings.warn('Custom mask layers require a config and must override '\n"
     ]
    }
   ],
   "source": [
    "model.save(\"models/secondmodel\")"
   ]
  },
  {
   "cell_type": "code",
   "execution_count": null,
   "metadata": {},
   "outputs": [],
   "source": []
  }
 ],
 "metadata": {
  "interpreter": {
   "hash": "6a65bfb053b84dfe41b67f1cec0c790434c65b552b531ac67bdc76b65fabe208"
  },
  "kernelspec": {
   "display_name": "Python 3.8.6 64-bit",
   "language": "python",
   "name": "python3"
  },
  "language_info": {
   "codemirror_mode": {
    "name": "ipython",
    "version": 3
   },
   "file_extension": ".py",
   "mimetype": "text/x-python",
   "name": "python",
   "nbconvert_exporter": "python",
   "pygments_lexer": "ipython3",
   "version": "3.9.12"
  },
  "orig_nbformat": 4
 },
 "nbformat": 4,
 "nbformat_minor": 2
}
