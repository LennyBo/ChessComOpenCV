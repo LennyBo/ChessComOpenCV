{
 "cells": [
  {
   "cell_type": "code",
   "execution_count": null,
   "metadata": {},
   "outputs": [],
   "source": [
    "from board_labeler import get_files_in_dir\n",
    "\n",
    "filesDir = \"labeledConstSize/\"\n",
    "\n",
    "paths = get_files_in_dir(filesDir)"
   ]
  },
  {
   "cell_type": "code",
   "execution_count": null,
   "metadata": {},
   "outputs": [],
   "source": [
    "import cv2\n",
    "import re\n",
    "import os\n",
    "from sklearn.preprocessing import StandardScaler\n",
    "from board_labeler import dictClasses\n",
    "from board_labeler import dctInv\n",
    "\n",
    "scaler = StandardScaler()\n",
    "\n",
    "stringLen = len(filesDir)\n",
    "m = re.compile(r\"(\\/)([a-zA-Z_]+)(\\/)\")\n",
    "\n",
    "X = [cv2.imread(x) for x in paths]\n",
    "y = [m.findall(x)[0][1] for x in paths]\n",
    "\n",
    "y = [[dictClasses[x]] for x in y]\n",
    "\n",
    "print(f\"{len(X)} {len(y)}\")"
   ]
  },
  {
   "cell_type": "code",
   "execution_count": null,
   "metadata": {},
   "outputs": [],
   "source": [
    "from sklearn.model_selection import train_test_split\n",
    "import numpy as np\n",
    "\n",
    "X = np.asanyarray(X)\n",
    "y = np.asanyarray(y)\n",
    "\n",
    "X_train, X_test, y_train, y_test = train_test_split(X, y, test_size=0.33, random_state=42)"
   ]
  },
  {
   "cell_type": "code",
   "execution_count": null,
   "metadata": {},
   "outputs": [],
   "source": [
    "import shutil\n",
    "\n",
    "train_path = 'train_data/'\n",
    "test_path = 'test_data/'\n",
    "\n",
    "if os.path.exists(train_path) and os.path.isdir(train_path):\n",
    "    shutil.rmtree(train_path)\n",
    "os.mkdir(train_path)\n",
    "\n",
    "if os.path.exists(test_path) and os.path.isdir(test_path):\n",
    "    shutil.rmtree(test_path)\n",
    "os.mkdir(test_path)\n",
    "\n",
    "for key, value in dictClasses.items():\n",
    "    os.mkdir(f\"{train_path}[{value}]\")\n",
    "    os.mkdir(f\"{test_path}[{value}]\")\n",
    "\n",
    "for i in range(len(X_train)):\n",
    "    cv2.imwrite(f\"{train_path}{y_train[i]}/{i}.png\", X_train[i])\n",
    "    \n",
    "for i in range(len(X_test)):\n",
    "    cv2.imwrite(f\"{test_path}{y_test[i]}/{i}.png\", X_test[i])"
   ]
  },
  {
   "cell_type": "code",
   "execution_count": null,
   "metadata": {},
   "outputs": [],
   "source": [
    "import tensorflow as tf\n",
    "from tensorflow import keras\n",
    "from tensorflow.keras import layers\n",
    "\n",
    "imgShape = X_train[0].shape\n",
    "num_classes = len(dictClasses)\n",
    "print(num_classes)\n",
    "\n",
    "inner_model = tf.keras.applications.resnet50.ResNet50(\n",
    "    include_top=False,\n",
    "    weights='imagenet',\n",
    "    input_shape=X_train[0].shape,\n",
    "    classes=num_classes,\n",
    ")\n",
    "inner_model.trainable = False\n",
    "model = keras.Sequential([\n",
    "    keras.Input(shape=X_train[0].shape),\n",
    "    layers.RandomContrast(0.5),\n",
    "    layers.RandomTranslation(0.3, 0.3),\n",
    "    layers.RandomZoom(0.3, 0.3, fill_mode=\"constant\", interpolation=\"bilinear\"),\n",
    "    layers.RandomRotation(0.5, fill_mode=\"constant\", interpolation=\"bilinear\"),\n",
    "    inner_model,\n",
    "    layers.Flatten(),\n",
    "    layers.Dense(200, activation='relu'),\n",
    "    layers.Dense(100, activation='relu'),\n",
    "    #Dense(50, activation='relu'),\n",
    "    layers.Dropout(0.2),\n",
    "    layers.Dense(num_classes, activation='softmax'),\n",
    "])\n",
    "\n",
    "model.compile(\n",
    "    optimizer='adam',   \n",
    "    loss='categorical_crossentropy',\n",
    "    metrics=['accuracy'],\n",
    ")\n",
    "\n",
    "model.fit(\n",
    "    X_train,\n",
    "    keras.utils.to_categorical(y_train),\n",
    "    epochs=20,\n",
    "    batch_size=128,\n",
    ")"
   ]
  },
  {
   "cell_type": "code",
   "execution_count": null,
   "metadata": {},
   "outputs": [],
   "source": [
    "score = model.evaluate(X_test, keras.utils.to_categorical(y_test), verbose = 0) \n",
    "\n",
    "print('Test loss:', score[0]) \n",
    "print('Test accuracy:', score[1])"
   ]
  },
  {
   "cell_type": "code",
   "execution_count": null,
   "metadata": {},
   "outputs": [],
   "source": [
    "model.save(\"models/secondmodel\")"
   ]
  },
  {
   "cell_type": "code",
   "execution_count": null,
   "metadata": {},
   "outputs": [],
   "source": []
  }
 ],
 "metadata": {
  "interpreter": {
   "hash": "6a65bfb053b84dfe41b67f1cec0c790434c65b552b531ac67bdc76b65fabe208"
  },
  "kernelspec": {
   "display_name": "Python 3.8.6 64-bit",
   "language": "python",
   "name": "python3"
  },
  "language_info": {
   "codemirror_mode": {
    "name": "ipython",
    "version": 3
   },
   "file_extension": ".py",
   "mimetype": "text/x-python",
   "name": "python",
   "nbconvert_exporter": "python",
   "pygments_lexer": "ipython3",
   "version": "3.9.12"
  },
  "orig_nbformat": 4
 },
 "nbformat": 4,
 "nbformat_minor": 2
}
