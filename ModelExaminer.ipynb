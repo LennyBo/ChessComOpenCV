{
 "cells": [
  {
   "cell_type": "code",
   "execution_count": null,
   "metadata": {},
   "outputs": [],
   "source": [
    "from tensorflow import keras\n",
    "\n",
    "dictClasses = {\n",
    "    \"empty\":0,\n",
    "    \"bishop_black\":1,\n",
    "    \"bishop_white\":2,\n",
    "    \"king_black\":3,\n",
    "    \"king_white\":4,\n",
    "    \"knight_black\":5,\n",
    "    \"knight_white\":6,\n",
    "    \"pawn_black\":7,\n",
    "    \"pawn_white\":8,\n",
    "    \"queen_black\":9,\n",
    "    \"queen_white\":10,\n",
    "    \"rook_black\":11,\n",
    "    \"rook_white\":12,\n",
    "}\n",
    "\n",
    "dct = {v: k for k, v in dictClasses.items()} # Inverse dictionary with 0=>empty, 1=>black_bishop, 2=>white_bishop, etc.\n",
    "\n",
    "model = keras.models.load_model('models/secondmodel')\n"
   ]
  },
  {
   "cell_type": "code",
   "execution_count": null,
   "metadata": {},
   "outputs": [],
   "source": [
    "import cv2\n",
    "from board_finder import imageResize, getBoardCoords\n",
    "\n",
    "img = imageResize(cv2.imread(\"Board_Examples/medium2.png\"), 0.5)\n",
    "\n",
    "imgs = getBoardCoords(img)"
   ]
  },
  {
   "cell_type": "code",
   "execution_count": null,
   "metadata": {},
   "outputs": [],
   "source": [
    "import numpy as np\n",
    "\n",
    "predictionClass = model.predict(np.array(imgs)) # ALWAYS USE NP.ARRAY AND GIVE IT AN ARRAY TO PREDICT"
   ]
  },
  {
   "cell_type": "code",
   "execution_count": null,
   "metadata": {},
   "outputs": [],
   "source": [
    "import matplotlib.pyplot as plt\n",
    "\n",
    "for i,im in enumerate(imgs):\n",
    "    imgplot = plt.imshow(im)\n",
    "    classPredicted = dct[predictionClass[i].argmax()] # Get the class with the highest probability\n",
    "    plt.title(\"Predicted: \" + classPredicted)   \n",
    "    \n",
    "    plt.show()\n",
    "    #print(classPredicted)"
   ]
  },
  {
   "cell_type": "code",
   "execution_count": null,
   "metadata": {},
   "outputs": [],
   "source": []
  }
 ],
 "metadata": {
  "interpreter": {
   "hash": "5357fb45fffc7f5de478653b34adc25aa99062a840522cfa9f5b0ed73bfde507"
  },
  "kernelspec": {
   "display_name": "Python 3.8.6 64-bit",
   "language": "python",
   "name": "python3"
  },
  "language_info": {
   "codemirror_mode": {
    "name": "ipython",
    "version": 3
   },
   "file_extension": ".py",
   "mimetype": "text/x-python",
   "name": "python",
   "nbconvert_exporter": "python",
   "pygments_lexer": "ipython3",
   "version": "3.9.12"
  },
  "orig_nbformat": 4
 },
 "nbformat": 4,
 "nbformat_minor": 2
}
