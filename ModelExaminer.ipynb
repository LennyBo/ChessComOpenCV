{
 "cells": [
  {
   "cell_type": "code",
   "execution_count": null,
   "metadata": {},
   "outputs": [],
   "source": [
    "from tensorflow import keras\n",
    "from board_labeler import dictClasses, dctInv\n",
    "\n",
    "\n",
    "\n",
    "model = keras.models.load_model('models/secondmodel')\n"
   ]
  },
  {
   "cell_type": "code",
   "execution_count": null,
   "metadata": {},
   "outputs": [],
   "source": [
    "import cv2\n",
    "from board_finder import imageResize, getBoardCoords\n",
    "\n",
    "img = imageResize(cv2.imread(\"Board_Examples/medium2.png\"), 0.5)\n",
    "\n",
    "imgs = getBoardCoords(img)"
   ]
  },
  {
   "cell_type": "code",
   "execution_count": null,
   "metadata": {},
   "outputs": [],
   "source": [
    "import numpy as np\n",
    "\n",
    "predictionClass = model.predict(np.array(imgs)) # ALWAYS USE NP.ARRAY AND GIVE IT AN ARRAY TO PREDICT"
   ]
  },
  {
   "cell_type": "code",
   "execution_count": null,
   "metadata": {},
   "outputs": [],
   "source": [
    "import matplotlib.pyplot as plt\n",
    "\n",
    "for i,im in enumerate(imgs):\n",
    "    imgplot = plt.imshow(im)\n",
    "    classPredicted = dctInv[predictionClass[i].argmax()] # Get the class with the highest probability\n",
    "    plt.title(\"Predicted: \" + classPredicted)   \n",
    "    \n",
    "    plt.show()\n",
    "    #print(classPredicted)"
   ]
  },
  {
   "cell_type": "code",
   "execution_count": null,
   "metadata": {},
   "outputs": [],
   "source": []
  }
 ],
 "metadata": {
  "interpreter": {
   "hash": "5357fb45fffc7f5de478653b34adc25aa99062a840522cfa9f5b0ed73bfde507"
  },
  "kernelspec": {
   "display_name": "Python 3.8.6 64-bit",
   "language": "python",
   "name": "python3"
  },
  "language_info": {
   "codemirror_mode": {
    "name": "ipython",
    "version": 3
   },
   "file_extension": ".py",
   "mimetype": "text/x-python",
   "name": "python",
   "nbconvert_exporter": "python",
   "pygments_lexer": "ipython3",
   "version": "3.8.6"
  },
  "orig_nbformat": 4
 },
 "nbformat": 4,
 "nbformat_minor": 2
}
