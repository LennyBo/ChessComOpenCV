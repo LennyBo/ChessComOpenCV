{
 "cells": [
  {
   "cell_type": "code",
   "execution_count": null,
   "metadata": {},
   "outputs": [],
   "source": [
    "from tensorflow import keras\n",
    "from board_labeler import dictClasses, dctInv\n",
    "\n",
    "model = keras.models.load_model('models/augmentedTrain')"
   ]
  },
  {
   "cell_type": "code",
   "execution_count": null,
   "metadata": {},
   "outputs": [],
   "source": [
    "import cv2\n",
    "from board_finder import imageResize, getBoardCoords\n",
    "from piece_recognizer import from_piece_to_name, simple_display_board, forsyth_edward_display_board\n",
    "\n",
    "board = imageResize(cv2.imread(\"Board_Examples/medium2.png\"), 0.5)\n",
    "\n",
    "pieces_images = getBoardCoords(board)"
   ]
  },
  {
   "cell_type": "code",
   "execution_count": null,
   "metadata": {},
   "outputs": [],
   "source": [
    "import numpy as np\n",
    "\n",
    "prediction_class = model.predict(np.array(pieces_images)) # ALWAYS USE NP.ARRAY AND GIVE IT AN ARRAY TO PREDICT"
   ]
  },
  {
   "cell_type": "code",
   "execution_count": null,
   "metadata": {},
   "outputs": [],
   "source": [
    "from PIL import Image\n",
    "\n",
    "pieces_names = []\n",
    "recognized_board = []\n",
    "clean_pieces_images = []\n",
    "\n",
    "size = 50\n",
    "dim = (size, size)\n",
    "\n",
    "j = 0\n",
    "\n",
    "for i, im in enumerate(pieces_images):\n",
    "    # Get the class with the highest probability\n",
    "    class_predicted = dctInv[prediction_class[i].argmax()]\n",
    "\n",
    "    pieces_names.append(class_predicted)\n",
    "    recognized_board.append(from_piece_to_name(class_predicted))\n",
    "\n",
    "    if class_predicted == 'empty':\n",
    "        piece = Image.new('RGBA', dim)\n",
    "    else:\n",
    "        piece = Image.open(f\"pieces_screens/pieces/{class_predicted}.png\").convert(\"RGBA\")\n",
    "\n",
    "    if i % 8 == 0 and i != 0:\n",
    "        if j == 0:\n",
    "            j = 1\n",
    "        else:\n",
    "            j = 0\n",
    "\n",
    "    if (i + j) % 2 == 0:\n",
    "        background = Image.open('pieces_screens/backgrounds/bgwhite.png').convert(\"RGBA\")\n",
    "    else:\n",
    "        background = Image.open('pieces_screens/backgrounds/bgblack.png').convert(\"RGBA\")\n",
    "\n",
    "    background.paste(piece, (0, 0), piece)\n",
    "    background = background.resize(dim)\n",
    "    clean_pieces_images.append(background)\n",
    "\n",
    "simple_display_board(recognized_board)\n",
    "forsyth_edward_display_board(recognized_board)"
   ]
  },
  {
   "cell_type": "code",
   "execution_count": null,
   "metadata": {},
   "outputs": [],
   "source": [
    "import matplotlib.pyplot as plt\n",
    "\n",
    "def get_recognized_board(pieces_images):\n",
    "    lines = []\n",
    "    for i in range(8):\n",
    "        line_list = [pieces_images[i*8+j] for j in range(8)]\n",
    "        lines.append(np.concatenate(line_list, axis=1))\n",
    "    \n",
    "    board = np.concatenate(lines, axis=0)\n",
    "    cv2.imwrite('recognized_board.png', board)\n",
    "    return board\n",
    "\n",
    "recognized_board_image = get_recognized_board(clean_pieces_images)\n",
    "\n",
    "size = 500\n",
    "\n",
    "fig, ax = plt.subplots(figsize=(12,8))\n",
    "im = ax.imshow(board, extent=[0, size*2, 0, size])\n",
    "\n",
    "fig, ax = plt.subplots(figsize=(12,8))\n",
    "im = ax.imshow(recognized_board_image, extent=[0, size, 0, size])\n",
    "\n",
    "plt.show()"
   ]
  }
 ],
 "metadata": {
  "interpreter": {
   "hash": "5357fb45fffc7f5de478653b34adc25aa99062a840522cfa9f5b0ed73bfde507"
  },
  "kernelspec": {
   "display_name": "Python 3.8.6 64-bit",
   "language": "python",
   "name": "python3"
  },
  "language_info": {
   "codemirror_mode": {
    "name": "ipython",
    "version": 3
   },
   "file_extension": ".py",
   "mimetype": "text/x-python",
   "name": "python",
   "nbconvert_exporter": "python",
   "pygments_lexer": "ipython3",
   "version": "3.8.6"
  },
  "orig_nbformat": 4
 },
 "nbformat": 4,
 "nbformat_minor": 2
}
